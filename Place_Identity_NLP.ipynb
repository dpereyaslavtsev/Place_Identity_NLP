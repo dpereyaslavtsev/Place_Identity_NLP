{
  "cells": [
    {
      "cell_type": "markdown",
      "metadata": {
        "id": "8hux4XB_6vMC"
      },
      "source": [
        "## Imports & installations"
      ]
    },
    {
      "cell_type": "code",
      "source": [
        "!pip install natasha"
      ],
      "metadata": {
        "id": "rtu_ncd6LywW",
        "colab": {
          "base_uri": "https://localhost:8080/"
        },
        "outputId": "3dfbf4da-f565-4a5c-89de-08dee1d7c0ca"
      },
      "execution_count": 1,
      "outputs": [
        {
          "output_type": "stream",
          "name": "stdout",
          "text": [
            "Looking in indexes: https://pypi.org/simple, https://us-python.pkg.dev/colab-wheels/public/simple/\n",
            "Collecting natasha\n",
            "  Downloading natasha-1.4.0-py3-none-any.whl (34.4 MB)\n",
            "\u001b[K     |████████████████████████████████| 34.4 MB 1.3 MB/s \n",
            "\u001b[?25hCollecting razdel>=0.5.0\n",
            "  Downloading razdel-0.5.0-py3-none-any.whl (21 kB)\n",
            "Collecting navec>=0.9.0\n",
            "  Downloading navec-0.10.0-py3-none-any.whl (23 kB)\n",
            "Collecting pymorphy2\n",
            "  Downloading pymorphy2-0.9.1-py3-none-any.whl (55 kB)\n",
            "\u001b[K     |████████████████████████████████| 55 kB 3.5 MB/s \n",
            "\u001b[?25hCollecting slovnet>=0.3.0\n",
            "  Downloading slovnet-0.5.0-py3-none-any.whl (49 kB)\n",
            "\u001b[K     |████████████████████████████████| 49 kB 6.7 MB/s \n",
            "\u001b[?25hCollecting yargy>=0.14.0\n",
            "  Downloading yargy-0.15.0-py3-none-any.whl (41 kB)\n",
            "\u001b[K     |████████████████████████████████| 41 kB 121 kB/s \n",
            "\u001b[?25hCollecting ipymarkup>=0.8.0\n",
            "  Downloading ipymarkup-0.9.0-py3-none-any.whl (14 kB)\n",
            "Collecting intervaltree>=3\n",
            "  Downloading intervaltree-3.1.0.tar.gz (32 kB)\n",
            "Requirement already satisfied: sortedcontainers<3.0,>=2.0 in /usr/local/lib/python3.7/dist-packages (from intervaltree>=3->ipymarkup>=0.8.0->natasha) (2.4.0)\n",
            "Requirement already satisfied: numpy in /usr/local/lib/python3.7/dist-packages (from navec>=0.9.0->natasha) (1.21.6)\n",
            "Collecting pymorphy2-dicts-ru<3.0,>=2.4\n",
            "  Downloading pymorphy2_dicts_ru-2.4.417127.4579844-py2.py3-none-any.whl (8.2 MB)\n",
            "\u001b[K     |████████████████████████████████| 8.2 MB 18.5 MB/s \n",
            "\u001b[?25hCollecting dawg-python>=0.7.1\n",
            "  Downloading DAWG_Python-0.7.2-py2.py3-none-any.whl (11 kB)\n",
            "Collecting docopt>=0.6\n",
            "  Downloading docopt-0.6.2.tar.gz (25 kB)\n",
            "Building wheels for collected packages: intervaltree, docopt\n",
            "  Building wheel for intervaltree (setup.py) ... \u001b[?25l\u001b[?25hdone\n",
            "  Created wheel for intervaltree: filename=intervaltree-3.1.0-py2.py3-none-any.whl size=26119 sha256=84231e1634130960f2bd7c2b63b7a6b2b22354015c3d94cf7591ca7afea19b0d\n",
            "  Stored in directory: /root/.cache/pip/wheels/16/85/bd/1001cbb46dcfb71c2001cd7401c6fb250392f22a81ce3722f7\n",
            "  Building wheel for docopt (setup.py) ... \u001b[?25l\u001b[?25hdone\n",
            "  Created wheel for docopt: filename=docopt-0.6.2-py2.py3-none-any.whl size=13723 sha256=5c2923b8ee7f2a88f17e7e9e6e03587e39e533e99d86ddfc8bb1449998c3b2e8\n",
            "  Stored in directory: /root/.cache/pip/wheels/72/b0/3f/1d95f96ff986c7dfffe46ce2be4062f38ebd04b506c77c81b9\n",
            "Successfully built intervaltree docopt\n",
            "Installing collected packages: pymorphy2-dicts-ru, docopt, dawg-python, razdel, pymorphy2, navec, intervaltree, yargy, slovnet, ipymarkup, natasha\n",
            "  Attempting uninstall: intervaltree\n",
            "    Found existing installation: intervaltree 2.1.0\n",
            "    Uninstalling intervaltree-2.1.0:\n",
            "      Successfully uninstalled intervaltree-2.1.0\n",
            "Successfully installed dawg-python-0.7.2 docopt-0.6.2 intervaltree-3.1.0 ipymarkup-0.9.0 natasha-1.4.0 navec-0.10.0 pymorphy2-0.9.1 pymorphy2-dicts-ru-2.4.417127.4579844 razdel-0.5.0 slovnet-0.5.0 yargy-0.15.0\n"
          ]
        }
      ]
    },
    {
      "cell_type": "code",
      "execution_count": 1,
      "metadata": {
        "id": "wF7J6ChlCDcA"
      },
      "outputs": [],
      "source": [
        "import pandas as pd\n",
        "from bs4 import BeautifulSoup"
      ]
    },
    {
      "cell_type": "code",
      "execution_count": 2,
      "metadata": {
        "id": "cKrNxsehSn-9"
      },
      "outputs": [],
      "source": [
        "from nltk import ngrams"
      ]
    },
    {
      "cell_type": "code",
      "execution_count": 4,
      "metadata": {
        "colab": {
          "base_uri": "https://localhost:8080/"
        },
        "id": "uZKq224sfnUH",
        "outputId": "5810181a-bcc1-4e98-c5bc-d42cd260569c"
      },
      "outputs": [
        {
          "output_type": "stream",
          "name": "stdout",
          "text": [
            "Looking in indexes: https://pypi.org/simple, https://us-python.pkg.dev/colab-wheels/public/simple/\n",
            "Requirement already satisfied: spacy in /usr/local/lib/python3.7/dist-packages (3.4.1)\n",
            "Requirement already satisfied: cymem<2.1.0,>=2.0.2 in /usr/local/lib/python3.7/dist-packages (from spacy) (2.0.6)\n",
            "Requirement already satisfied: pathy>=0.3.5 in /usr/local/lib/python3.7/dist-packages (from spacy) (0.6.2)\n",
            "Requirement already satisfied: wasabi<1.1.0,>=0.9.1 in /usr/local/lib/python3.7/dist-packages (from spacy) (0.10.1)\n",
            "Requirement already satisfied: setuptools in /usr/local/lib/python3.7/dist-packages (from spacy) (57.4.0)\n",
            "Requirement already satisfied: catalogue<2.1.0,>=2.0.6 in /usr/local/lib/python3.7/dist-packages (from spacy) (2.0.8)\n",
            "Requirement already satisfied: pydantic!=1.8,!=1.8.1,<1.10.0,>=1.7.4 in /usr/local/lib/python3.7/dist-packages (from spacy) (1.9.2)\n",
            "Requirement already satisfied: typer<0.5.0,>=0.3.0 in /usr/local/lib/python3.7/dist-packages (from spacy) (0.4.2)\n",
            "Requirement already satisfied: typing-extensions<4.2.0,>=3.7.4 in /usr/local/lib/python3.7/dist-packages (from spacy) (4.1.1)\n",
            "Requirement already satisfied: jinja2 in /usr/local/lib/python3.7/dist-packages (from spacy) (2.11.3)\n",
            "Requirement already satisfied: tqdm<5.0.0,>=4.38.0 in /usr/local/lib/python3.7/dist-packages (from spacy) (4.64.1)\n",
            "Requirement already satisfied: langcodes<4.0.0,>=3.2.0 in /usr/local/lib/python3.7/dist-packages (from spacy) (3.3.0)\n",
            "Requirement already satisfied: packaging>=20.0 in /usr/local/lib/python3.7/dist-packages (from spacy) (21.3)\n",
            "Requirement already satisfied: spacy-loggers<2.0.0,>=1.0.0 in /usr/local/lib/python3.7/dist-packages (from spacy) (1.0.3)\n",
            "Requirement already satisfied: srsly<3.0.0,>=2.4.3 in /usr/local/lib/python3.7/dist-packages (from spacy) (2.4.4)\n",
            "Requirement already satisfied: preshed<3.1.0,>=3.0.2 in /usr/local/lib/python3.7/dist-packages (from spacy) (3.0.7)\n",
            "Requirement already satisfied: thinc<8.2.0,>=8.1.0 in /usr/local/lib/python3.7/dist-packages (from spacy) (8.1.0)\n",
            "Requirement already satisfied: spacy-legacy<3.1.0,>=3.0.9 in /usr/local/lib/python3.7/dist-packages (from spacy) (3.0.10)\n",
            "Requirement already satisfied: requests<3.0.0,>=2.13.0 in /usr/local/lib/python3.7/dist-packages (from spacy) (2.23.0)\n",
            "Requirement already satisfied: numpy>=1.15.0 in /usr/local/lib/python3.7/dist-packages (from spacy) (1.21.6)\n",
            "Requirement already satisfied: murmurhash<1.1.0,>=0.28.0 in /usr/local/lib/python3.7/dist-packages (from spacy) (1.0.8)\n",
            "Requirement already satisfied: zipp>=0.5 in /usr/local/lib/python3.7/dist-packages (from catalogue<2.1.0,>=2.0.6->spacy) (3.8.1)\n",
            "Requirement already satisfied: pyparsing!=3.0.5,>=2.0.2 in /usr/local/lib/python3.7/dist-packages (from packaging>=20.0->spacy) (3.0.9)\n",
            "Requirement already satisfied: smart-open<6.0.0,>=5.2.1 in /usr/local/lib/python3.7/dist-packages (from pathy>=0.3.5->spacy) (5.2.1)\n",
            "Requirement already satisfied: certifi>=2017.4.17 in /usr/local/lib/python3.7/dist-packages (from requests<3.0.0,>=2.13.0->spacy) (2022.6.15)\n",
            "Requirement already satisfied: idna<3,>=2.5 in /usr/local/lib/python3.7/dist-packages (from requests<3.0.0,>=2.13.0->spacy) (2.10)\n",
            "Requirement already satisfied: urllib3!=1.25.0,!=1.25.1,<1.26,>=1.21.1 in /usr/local/lib/python3.7/dist-packages (from requests<3.0.0,>=2.13.0->spacy) (1.24.3)\n",
            "Requirement already satisfied: chardet<4,>=3.0.2 in /usr/local/lib/python3.7/dist-packages (from requests<3.0.0,>=2.13.0->spacy) (3.0.4)\n",
            "Requirement already satisfied: blis<0.8.0,>=0.7.8 in /usr/local/lib/python3.7/dist-packages (from thinc<8.2.0,>=8.1.0->spacy) (0.7.8)\n",
            "Requirement already satisfied: click<9.0.0,>=7.1.1 in /usr/local/lib/python3.7/dist-packages (from typer<0.5.0,>=0.3.0->spacy) (7.1.2)\n",
            "Requirement already satisfied: MarkupSafe>=0.23 in /usr/local/lib/python3.7/dist-packages (from jinja2->spacy) (2.0.1)\n",
            "2022-09-24 15:22:53.063591: E tensorflow/stream_executor/cuda/cuda_driver.cc:271] failed call to cuInit: CUDA_ERROR_NO_DEVICE: no CUDA-capable device is detected\n",
            "Looking in indexes: https://pypi.org/simple, https://us-python.pkg.dev/colab-wheels/public/simple/\n",
            "Collecting ru-core-news-lg==3.4.0\n",
            "  Downloading https://github.com/explosion/spacy-models/releases/download/ru_core_news_lg-3.4.0/ru_core_news_lg-3.4.0-py3-none-any.whl (513.4 MB)\n",
            "\u001b[K     |████████████████████████████████| 513.4 MB 15 kB/s \n",
            "\u001b[?25hRequirement already satisfied: pymorphy2>=0.9 in /usr/local/lib/python3.7/dist-packages (from ru-core-news-lg==3.4.0) (0.9.1)\n",
            "Requirement already satisfied: spacy<3.5.0,>=3.4.0 in /usr/local/lib/python3.7/dist-packages (from ru-core-news-lg==3.4.0) (3.4.1)\n",
            "Requirement already satisfied: dawg-python>=0.7.1 in /usr/local/lib/python3.7/dist-packages (from pymorphy2>=0.9->ru-core-news-lg==3.4.0) (0.7.2)\n",
            "Requirement already satisfied: pymorphy2-dicts-ru<3.0,>=2.4 in /usr/local/lib/python3.7/dist-packages (from pymorphy2>=0.9->ru-core-news-lg==3.4.0) (2.4.417127.4579844)\n",
            "Requirement already satisfied: docopt>=0.6 in /usr/local/lib/python3.7/dist-packages (from pymorphy2>=0.9->ru-core-news-lg==3.4.0) (0.6.2)\n",
            "Requirement already satisfied: wasabi<1.1.0,>=0.9.1 in /usr/local/lib/python3.7/dist-packages (from spacy<3.5.0,>=3.4.0->ru-core-news-lg==3.4.0) (0.10.1)\n",
            "Requirement already satisfied: preshed<3.1.0,>=3.0.2 in /usr/local/lib/python3.7/dist-packages (from spacy<3.5.0,>=3.4.0->ru-core-news-lg==3.4.0) (3.0.7)\n",
            "Requirement already satisfied: murmurhash<1.1.0,>=0.28.0 in /usr/local/lib/python3.7/dist-packages (from spacy<3.5.0,>=3.4.0->ru-core-news-lg==3.4.0) (1.0.8)\n",
            "Requirement already satisfied: cymem<2.1.0,>=2.0.2 in /usr/local/lib/python3.7/dist-packages (from spacy<3.5.0,>=3.4.0->ru-core-news-lg==3.4.0) (2.0.6)\n",
            "Requirement already satisfied: requests<3.0.0,>=2.13.0 in /usr/local/lib/python3.7/dist-packages (from spacy<3.5.0,>=3.4.0->ru-core-news-lg==3.4.0) (2.23.0)\n",
            "Requirement already satisfied: srsly<3.0.0,>=2.4.3 in /usr/local/lib/python3.7/dist-packages (from spacy<3.5.0,>=3.4.0->ru-core-news-lg==3.4.0) (2.4.4)\n",
            "Requirement already satisfied: typer<0.5.0,>=0.3.0 in /usr/local/lib/python3.7/dist-packages (from spacy<3.5.0,>=3.4.0->ru-core-news-lg==3.4.0) (0.4.2)\n",
            "Requirement already satisfied: tqdm<5.0.0,>=4.38.0 in /usr/local/lib/python3.7/dist-packages (from spacy<3.5.0,>=3.4.0->ru-core-news-lg==3.4.0) (4.64.1)\n",
            "Requirement already satisfied: numpy>=1.15.0 in /usr/local/lib/python3.7/dist-packages (from spacy<3.5.0,>=3.4.0->ru-core-news-lg==3.4.0) (1.21.6)\n",
            "Requirement already satisfied: pathy>=0.3.5 in /usr/local/lib/python3.7/dist-packages (from spacy<3.5.0,>=3.4.0->ru-core-news-lg==3.4.0) (0.6.2)\n",
            "Requirement already satisfied: typing-extensions<4.2.0,>=3.7.4 in /usr/local/lib/python3.7/dist-packages (from spacy<3.5.0,>=3.4.0->ru-core-news-lg==3.4.0) (4.1.1)\n",
            "Requirement already satisfied: packaging>=20.0 in /usr/local/lib/python3.7/dist-packages (from spacy<3.5.0,>=3.4.0->ru-core-news-lg==3.4.0) (21.3)\n",
            "Requirement already satisfied: thinc<8.2.0,>=8.1.0 in /usr/local/lib/python3.7/dist-packages (from spacy<3.5.0,>=3.4.0->ru-core-news-lg==3.4.0) (8.1.0)\n",
            "Requirement already satisfied: spacy-legacy<3.1.0,>=3.0.9 in /usr/local/lib/python3.7/dist-packages (from spacy<3.5.0,>=3.4.0->ru-core-news-lg==3.4.0) (3.0.10)\n",
            "Requirement already satisfied: spacy-loggers<2.0.0,>=1.0.0 in /usr/local/lib/python3.7/dist-packages (from spacy<3.5.0,>=3.4.0->ru-core-news-lg==3.4.0) (1.0.3)\n",
            "Requirement already satisfied: catalogue<2.1.0,>=2.0.6 in /usr/local/lib/python3.7/dist-packages (from spacy<3.5.0,>=3.4.0->ru-core-news-lg==3.4.0) (2.0.8)\n",
            "Requirement already satisfied: setuptools in /usr/local/lib/python3.7/dist-packages (from spacy<3.5.0,>=3.4.0->ru-core-news-lg==3.4.0) (57.4.0)\n",
            "Requirement already satisfied: jinja2 in /usr/local/lib/python3.7/dist-packages (from spacy<3.5.0,>=3.4.0->ru-core-news-lg==3.4.0) (2.11.3)\n",
            "Requirement already satisfied: pydantic!=1.8,!=1.8.1,<1.10.0,>=1.7.4 in /usr/local/lib/python3.7/dist-packages (from spacy<3.5.0,>=3.4.0->ru-core-news-lg==3.4.0) (1.9.2)\n",
            "Requirement already satisfied: langcodes<4.0.0,>=3.2.0 in /usr/local/lib/python3.7/dist-packages (from spacy<3.5.0,>=3.4.0->ru-core-news-lg==3.4.0) (3.3.0)\n",
            "Requirement already satisfied: zipp>=0.5 in /usr/local/lib/python3.7/dist-packages (from catalogue<2.1.0,>=2.0.6->spacy<3.5.0,>=3.4.0->ru-core-news-lg==3.4.0) (3.8.1)\n",
            "Requirement already satisfied: pyparsing!=3.0.5,>=2.0.2 in /usr/local/lib/python3.7/dist-packages (from packaging>=20.0->spacy<3.5.0,>=3.4.0->ru-core-news-lg==3.4.0) (3.0.9)\n",
            "Requirement already satisfied: smart-open<6.0.0,>=5.2.1 in /usr/local/lib/python3.7/dist-packages (from pathy>=0.3.5->spacy<3.5.0,>=3.4.0->ru-core-news-lg==3.4.0) (5.2.1)\n",
            "Requirement already satisfied: certifi>=2017.4.17 in /usr/local/lib/python3.7/dist-packages (from requests<3.0.0,>=2.13.0->spacy<3.5.0,>=3.4.0->ru-core-news-lg==3.4.0) (2022.6.15)\n",
            "Requirement already satisfied: idna<3,>=2.5 in /usr/local/lib/python3.7/dist-packages (from requests<3.0.0,>=2.13.0->spacy<3.5.0,>=3.4.0->ru-core-news-lg==3.4.0) (2.10)\n",
            "Requirement already satisfied: urllib3!=1.25.0,!=1.25.1,<1.26,>=1.21.1 in /usr/local/lib/python3.7/dist-packages (from requests<3.0.0,>=2.13.0->spacy<3.5.0,>=3.4.0->ru-core-news-lg==3.4.0) (1.24.3)\n",
            "Requirement already satisfied: chardet<4,>=3.0.2 in /usr/local/lib/python3.7/dist-packages (from requests<3.0.0,>=2.13.0->spacy<3.5.0,>=3.4.0->ru-core-news-lg==3.4.0) (3.0.4)\n",
            "Requirement already satisfied: blis<0.8.0,>=0.7.8 in /usr/local/lib/python3.7/dist-packages (from thinc<8.2.0,>=8.1.0->spacy<3.5.0,>=3.4.0->ru-core-news-lg==3.4.0) (0.7.8)\n",
            "Requirement already satisfied: click<9.0.0,>=7.1.1 in /usr/local/lib/python3.7/dist-packages (from typer<0.5.0,>=0.3.0->spacy<3.5.0,>=3.4.0->ru-core-news-lg==3.4.0) (7.1.2)\n",
            "Requirement already satisfied: MarkupSafe>=0.23 in /usr/local/lib/python3.7/dist-packages (from jinja2->spacy<3.5.0,>=3.4.0->ru-core-news-lg==3.4.0) (2.0.1)\n",
            "Installing collected packages: ru-core-news-lg\n",
            "Successfully installed ru-core-news-lg-3.4.0\n",
            "\u001b[38;5;2m✔ Download and installation successful\u001b[0m\n",
            "You can now load the package via spacy.load('ru_core_news_lg')\n"
          ]
        }
      ],
      "source": [
        "!pip install --upgrade spacy               # Обновляем spacy. В Колабе уже предустановлен, но версия не последняя\n",
        "!python3 -m spacy download ru_core_news_lg # Загружаем модель для русского языка"
      ]
    },
    {
      "cell_type": "code",
      "execution_count": 3,
      "metadata": {
        "colab": {
          "base_uri": "https://localhost:8080/"
        },
        "id": "tXdqrzi1-vyg",
        "outputId": "2fb7e6e2-f202-479e-9c1f-f063d47fb6ee"
      },
      "outputs": [
        {
          "output_type": "stream",
          "name": "stderr",
          "text": [
            "[nltk_data] Downloading package stopwords to /root/nltk_data...\n",
            "[nltk_data]   Package stopwords is already up-to-date!\n"
          ]
        },
        {
          "output_type": "execute_result",
          "data": {
            "text/plain": [
              "True"
            ]
          },
          "metadata": {},
          "execution_count": 3
        }
      ],
      "source": [
        "import nltk\n",
        "from nltk.corpus import stopwords\n",
        "nltk.download('stopwords')"
      ]
    },
    {
      "cell_type": "code",
      "source": [
        "rus_stopwords = stopwords.words('russian')\n",
        "rus_stopwords.append('это')"
      ],
      "metadata": {
        "id": "6suH6GxjPjTA"
      },
      "execution_count": 4,
      "outputs": []
    },
    {
      "cell_type": "code",
      "execution_count": 5,
      "metadata": {
        "id": "24bTLVkgf8K-"
      },
      "outputs": [],
      "source": [
        "import spacy\n",
        "nlp = spacy.load('ru_core_news_lg')"
      ]
    },
    {
      "cell_type": "code",
      "execution_count": 6,
      "metadata": {
        "id": "aAJi1i4O7n_x"
      },
      "outputs": [],
      "source": [
        "import re"
      ]
    },
    {
      "cell_type": "code",
      "execution_count": 7,
      "metadata": {
        "id": "d3Uv1S37fc_t"
      },
      "outputs": [],
      "source": [
        "from tqdm import tqdm # Библиотека для отображения прогресс-баров (чтобы оценивать время выполнения кода)\n",
        "\n",
        "tqdm.pandas() # Включим режим работы с пандасом (метод progress_apply ниже)"
      ]
    },
    {
      "cell_type": "code",
      "source": [
        "!pip install --upgrade scikit-learn\n",
        "from sklearn.feature_extraction.text import CountVectorizer\n",
        "from sklearn.feature_extraction.text import TfidfTransformer\n",
        "from sklearn.decomposition import LatentDirichletAllocation as LDA"
      ],
      "metadata": {
        "id": "jOmRKlZSRjz_",
        "colab": {
          "base_uri": "https://localhost:8080/"
        },
        "outputId": "a4c62c9a-da61-4d9d-8cf6-b391fc482f5d"
      },
      "execution_count": 8,
      "outputs": [
        {
          "output_type": "stream",
          "name": "stdout",
          "text": [
            "Looking in indexes: https://pypi.org/simple, https://us-python.pkg.dev/colab-wheels/public/simple/\n",
            "Requirement already satisfied: scikit-learn in /usr/local/lib/python3.7/dist-packages (1.0.2)\n",
            "Requirement already satisfied: joblib>=0.11 in /usr/local/lib/python3.7/dist-packages (from scikit-learn) (1.1.0)\n",
            "Requirement already satisfied: numpy>=1.14.6 in /usr/local/lib/python3.7/dist-packages (from scikit-learn) (1.21.6)\n",
            "Requirement already satisfied: threadpoolctl>=2.0.0 in /usr/local/lib/python3.7/dist-packages (from scikit-learn) (3.1.0)\n",
            "Requirement already satisfied: scipy>=1.1.0 in /usr/local/lib/python3.7/dist-packages (from scikit-learn) (1.7.3)\n"
          ]
        }
      ]
    },
    {
      "cell_type": "code",
      "source": [
        "from ipymarkup import show_dep_ascii_markup as show_markup\n",
        "from razdel import sentenize, tokenize\n",
        "from slovnet import Syntax"
      ],
      "metadata": {
        "id": "i5pldL8UQeUB"
      },
      "execution_count": 9,
      "outputs": []
    },
    {
      "cell_type": "code",
      "source": [
        "from navec import Navec\n",
        "from slovnet import NER\n",
        "from ipymarkup import show_span_ascii_markup as show_markup\n",
        "from ipymarkup import show_span_box_markup"
      ],
      "metadata": {
        "id": "6sCcPfsjfvJS"
      },
      "execution_count": 11,
      "outputs": []
    },
    {
      "cell_type": "code",
      "source": [
        "!pip install vk\n",
        "import pandas as pd\n",
        "import vk\n",
        "from time import sleep\n",
        "import requests"
      ],
      "metadata": {
        "colab": {
          "base_uri": "https://localhost:8080/",
          "height": 416
        },
        "id": "Hsjv63mDQG15",
        "outputId": "57cf90a7-db37-4876-8400-a4068a90150a"
      },
      "execution_count": 28,
      "outputs": [
        {
          "output_type": "stream",
          "name": "stdout",
          "text": [
            "Looking in indexes: https://pypi.org/simple, https://us-python.pkg.dev/colab-wheels/public/simple/\n",
            "Collecting vk\n",
            "  Downloading vk-3.0-py3-none-any.whl (11 kB)\n",
            "Collecting requests~=2.24\n",
            "  Downloading requests-2.28.1-py3-none-any.whl (62 kB)\n",
            "\u001b[K     |████████████████████████████████| 62 kB 1.6 MB/s \n",
            "\u001b[?25hRequirement already satisfied: charset-normalizer<3,>=2 in /usr/local/lib/python3.7/dist-packages (from requests~=2.24->vk) (2.1.1)\n",
            "Requirement already satisfied: urllib3<1.27,>=1.21.1 in /usr/local/lib/python3.7/dist-packages (from requests~=2.24->vk) (1.24.3)\n",
            "Requirement already satisfied: certifi>=2017.4.17 in /usr/local/lib/python3.7/dist-packages (from requests~=2.24->vk) (2022.6.15)\n",
            "Requirement already satisfied: idna<4,>=2.5 in /usr/local/lib/python3.7/dist-packages (from requests~=2.24->vk) (2.10)\n",
            "Installing collected packages: requests, vk\n",
            "  Attempting uninstall: requests\n",
            "    Found existing installation: requests 2.23.0\n",
            "    Uninstalling requests-2.23.0:\n",
            "      Successfully uninstalled requests-2.23.0\n",
            "\u001b[31mERROR: pip's dependency resolver does not currently take into account all the packages that are installed. This behaviour is the source of the following dependency conflicts.\n",
            "ru-core-news-lg 3.4.0 requires pymorphy2>=0.9, but you have pymorphy2 0.8 which is incompatible.\u001b[0m\n",
            "Successfully installed requests-2.28.1 vk-3.0\n"
          ]
        },
        {
          "output_type": "display_data",
          "data": {
            "application/vnd.colab-display-data+json": {
              "pip_warning": {
                "packages": [
                  "requests"
                ]
              }
            }
          },
          "metadata": {}
        }
      ]
    },
    {
      "cell_type": "code",
      "source": [
        "# download and load slovnet and navec .tar files (natasha repository: )\n",
        "ner = NER.load('/content/drive/MyDrive/Misc/NLP/slovnet_ner_news_v1.tar')\n",
        "navec = Navec.load('/content/drive/MyDrive/Misc/NLP/navec_news_v1_1B_250K_300d_100q.tar')\n",
        "syntax = Syntax.load('/content/drive/MyDrive/Misc/NLP/slovnet_syntax_news_v1.tar')\n",
        "syntax.navec(navec)\n",
        "ner.navec(navec)"
      ],
      "metadata": {
        "id": "u8SdG9jff0xC"
      },
      "execution_count": null,
      "outputs": []
    },
    {
      "cell_type": "markdown",
      "source": [
        "## Neccessary functions"
      ],
      "metadata": {
        "id": "pxq5eG7NLiet"
      }
    },
    {
      "cell_type": "code",
      "source": [
        "# code for parsing comments of the specified groups in the VK social network\n",
        "def parse_texts(group_id):\n",
        "    d_wall = {}\n",
        "    offset = 0\n",
        "    run = vk_api.wall.get(owner_id=group_id, count=1)['count']\n",
        "    print('Retrieving wall posts')\n",
        "    pbar = tqdm(total = run+100)\n",
        "    while offset < run:\n",
        "        for i in vk_api.wall.get(owner_id=group_id, count=100, offset=offset)['items']:\n",
        "            d_wall[i['id']] = [i['text'], datetime.fromtimestamp(i['date'])]\n",
        "        offset += 100\n",
        "        pbar.update(100) \n",
        "    pbar.close()\n",
        "    df_1 = pd.DataFrame.from_dict(d_wall).T\n",
        "    df_1.to_csv('/content/drive/MyDrive/Misc/Kursovaya/VK/{name}_wall.csv'.format(name=group_id))\n",
        "    d_comms = {}\n",
        "    print('Retrieving comments')\n",
        "    for id in tqdm(d_wall):\n",
        "        for item in vk_api.wall.getComments(owner_id=group_id, post_id=id)['items']:\n",
        "            d_comms[item['id']] = [item['text'], datetime.fromtimestamp(item['date'])]\n",
        "        sleep(0.34)\n",
        "    df_2 = pd.DataFrame.from_dict(d_comms).T\n",
        "    df_2.to_csv('/content/drive/MyDrive/Misc/Kursovaya/VK/{name}_comms.csv'.format(name=group_id))\n",
        "    print('{name} group is finished, {len} comments extracted'.format(name=group_id, len=len(d_comms)))"
      ],
      "metadata": {
        "id": "ZfB6GaHIP4eA"
      },
      "execution_count": 27,
      "outputs": []
    },
    {
      "cell_type": "code",
      "execution_count": 23,
      "metadata": {
        "colab": {
          "base_uri": "https://localhost:8080/"
        },
        "id": "YTzk00dD5Uj_",
        "outputId": "f0cee6cf-f524-415f-fa73-7b1a4643b8f0"
      },
      "outputs": [
        {
          "output_type": "stream",
          "name": "stdout",
          "text": [
            "Looking in indexes: https://pypi.org/simple, https://us-python.pkg.dev/colab-wheels/public/simple/\n",
            "Requirement already satisfied: emoji in /usr/local/lib/python3.7/dist-packages (2.1.0)\n"
          ]
        }
      ],
      "source": [
        "# emoji removing functions\n",
        "!pip install emoji\n",
        "import string\n",
        "import re\n",
        "import emoji\n",
        "\n",
        "def remove_latin(text):\n",
        "    latin = re.compile(r'[A-Za-z]')\n",
        "    return latin.sub(r'', text)\n",
        "\n",
        "def remove_URL(text):\n",
        "    url = re.compile(r'https?://\\S+|www\\.\\S+')\n",
        "    return url.sub(r'', text)\n",
        "\n",
        "def remove_html(text):\n",
        "    html = re.compile(r'<.*?>')\n",
        "    return html.sub(r'', text)\n",
        "\n",
        "def remove_emoji(text):\n",
        "    return emoji.replace_emoji(text, replace='')\n",
        "\n",
        "def remove_punct(text):\n",
        "    table=str.maketrans('', '', string.punctuation)\n",
        "    return text.translate(table)\n",
        "\n",
        "def del_hashtag(text):\n",
        "    res_text = []\n",
        "    del_flag = False\n",
        "    for word in \" \".join(text.split()).split(' '):\n",
        "        if del_flag:\n",
        "            del_flag = False\n",
        "            continue\n",
        "        if '#' not in word:\n",
        "            res_text.append(word)\n",
        "        if word == '#' or word.endswith('#'):\n",
        "            del_flag = True\n",
        "        if word.startswith('#'):\n",
        "            continue\n",
        "    return ' '.join(res_text)\n",
        "\n",
        "def clean_text(text):\n",
        "    return del_hashtag(remove_punct(remove_emoji(remove_html(remove_URL(remove_latin(text))))))"
      ]
    },
    {
      "cell_type": "code",
      "source": [
        "# function to return noun chunks, the relationship tags are predetermined to be all sets of modificators\n",
        "def noun_chunks(text):\n",
        "    chunk = []\n",
        "    if 'район' not in text.lower() or 'свиблово' not in text.lower():\n",
        "        return chunk\n",
        "    for sent in sentenize(text):\n",
        "        if 'район' in sent.text.lower() or 'свиблово' in sent.text.lower():\n",
        "            tokens = [_.text for _ in tokenize(sent.text)]\n",
        "            chunk.append(tokens)\n",
        "    markup = next(syntax.map(chunk))\n",
        "    words, deps = [], []\n",
        "    for token in markup.tokens:\n",
        "        words.append(token.text)\n",
        "        source = int(token.head_id) - 1\n",
        "        target = int(token.id) - 1\n",
        "        if source > 0 and source != target:  # skip root, loops\n",
        "            deps.append([source, target, token.rel])\n",
        "    res = []\n",
        "    for source, target, rel in deps:\n",
        "        if 'район' in words[source].lower() or 'свиблово' in words[source].lower():\n",
        "            if rel in ['amod', 'nmod', 'advmod']: \n",
        "                res += [(words[source].lower(), words[target].lower())]\n",
        "    return res"
      ],
      "metadata": {
        "id": "IU-Gj5OMLwWn"
      },
      "execution_count": 64,
      "outputs": []
    },
    {
      "cell_type": "code",
      "source": [
        "# function to return named entities denoting persons\n",
        "def get_PER(text):\n",
        "    if len(text) > 0:\n",
        "        markup = ner(text)\n",
        "    else:\n",
        "        return\n",
        "    list_of_per = []\n",
        "    for span in markup.spans:\n",
        "        if span.type == 'PER':\n",
        "            list_of_per += [text[span.start:span.stop]]\n",
        "    return list_of_per"
      ],
      "metadata": {
        "id": "fnmJIBGICurP"
      },
      "execution_count": 16,
      "outputs": []
    },
    {
      "cell_type": "code",
      "source": [
        "# function to return named entities denoting locations\n",
        "def get_LOC(text):\n",
        "    if len(text) > 0:\n",
        "        markup = ner(text)\n",
        "    else:\n",
        "        return\n",
        "    list_of_loc = []\n",
        "    for span in markup.spans:\n",
        "        if span.type == 'LOC':\n",
        "            list_of_loc += [text[span.start:span.stop]]\n",
        "    return list_of_loc"
      ],
      "metadata": {
        "id": "7HzDw6j2D_7B"
      },
      "execution_count": 17,
      "outputs": []
    },
    {
      "cell_type": "code",
      "source": [
        "# function to return named entities denoting organizations\n",
        "def get_ORG(text):\n",
        "    if len(text) > 0:\n",
        "        markup = ner(text)\n",
        "    else:\n",
        "        return\n",
        "    list_of_org = []\n",
        "    for span in markup.spans:\n",
        "        if span.type == 'ORG':\n",
        "            list_of_org += [text[span.start:span.stop]]\n",
        "    return list_of_org"
      ],
      "metadata": {
        "id": "xcwdisBEE5AY"
      },
      "execution_count": 18,
      "outputs": []
    },
    {
      "cell_type": "code",
      "execution_count": 19,
      "metadata": {
        "id": "z8652Z07S1qV"
      },
      "outputs": [],
      "source": [
        "# processing function to get the texts ready for NLP analysis\n",
        "def process_comms(df):\n",
        "    print('cleaning comments')\n",
        "    df['cleaned'] = df['text'].progress_apply(lambda x: clean_text(str(x)))\n",
        "    print('finding lemmas')\n",
        "    df['lemmas'] = df['cleaned'].progress_apply(lambda x: [s.lemma_ for s in nlp(x)])\n",
        "    print('cleaning lemmas')\n",
        "    df['cleaned_lemmas'] = df['lemmas'].progress_apply(lambda x: [word for word in x if word not in rus_stopwords])"
      ]
    },
    {
      "cell_type": "code",
      "execution_count": 20,
      "metadata": {
        "id": "gfdW4n8ksqRj"
      },
      "outputs": [],
      "source": [
        "# quality-of-life functions\n",
        "def value_counts(lst):\n",
        "    from collections import Counter\n",
        "    value_counts = {}\n",
        "    for i in tqdm(lst):\n",
        "        value_counts[i] = lst.count(i)\n",
        "    return sorted(value_counts.items(), key=lambda item: item[1], reverse=True)\n",
        "\n",
        "def grams_to_dict(column):\n",
        "    all_bigramms = []\n",
        "    for i in column:\n",
        "        all_bigramms += [*i]\n",
        "    from collections import Counter\n",
        "    value_counts = {}\n",
        "    for i in tqdm(all_bigramms):\n",
        "        value_counts[i] = all_bigramms.count(i)\n",
        "    frequency = dict(sorted(value_counts.items(), key=lambda item: item[1], reverse=True))\n",
        "    return frequency\n",
        "\n",
        "def join_list(list):\n",
        "    substr = ''\n",
        "    for i in list:\n",
        "       if len(i) > 1 and i not in ['lt', 'br']:\n",
        "           substr += ' ' + i\n",
        "    return substr"
      ]
    },
    {
      "cell_type": "markdown",
      "metadata": {
        "id": "fTJ-QyRL_Np-"
      },
      "source": [
        "## 1. Scraping the Vkontakte groups via API"
      ]
    },
    {
      "cell_type": "code",
      "execution_count": null,
      "metadata": {
        "id": "R2RyTT4iBxXC"
      },
      "outputs": [],
      "source": [
        "my_tocken = 'd7456994d7456994d74569949bd7396797dd745d7456994b50b934e479d2c796c15a492'\n",
        "session = vk.Session(access_token=my_tocken)\n",
        "vk_api = vk.API(session, v=5.92)"
      ]
    },
    {
      "cell_type": "code",
      "execution_count": null,
      "metadata": {
        "id": "W9LM9NcyB2HV"
      },
      "outputs": [],
      "source": [
        "groups_id = [-2326970, -73328563, -249423, -187978446, -173991154]"
      ]
    },
    {
      "cell_type": "code",
      "execution_count": null,
      "metadata": {
        "id": "1N6-vq2_xa55"
      },
      "outputs": [],
      "source": [
        "groups_id = [-73328563, -249423, -187978446, -173991154]"
      ]
    },
    {
      "cell_type": "code",
      "execution_count": null,
      "metadata": {
        "id": "cFc9EGqAG8d1"
      },
      "outputs": [],
      "source": [
        "for i in groups_id:    \n",
        "    parse_texts(i)"
      ]
    },
    {
      "cell_type": "code",
      "source": [
        "df_1 = pd.read_csv('/content/drive/MyDrive/Misc/Kursovaya/VK/-173991154_wall.csv')\n",
        "df_2 = pd.read_csv('/content/drive/MyDrive/Misc/Kursovaya/VK/-187978446_wall.csv')\n",
        "df_3 = pd.read_csv('/content/drive/MyDrive/Misc/Kursovaya/VK/-249423_wall.csv')\n",
        "df_4 = pd.read_csv('/content/drive/MyDrive/Misc/Kursovaya/VK/-73328563_wall.csv')\n",
        "df_5 = pd.read_csv('/content/drive/MyDrive/Misc/Kursovaya/VK/-2326970_wall.csv')\n",
        "df_wall = pd.concat([df_1, df_2, df_3, df_4, df_5])\n",
        "df_wall.rename(columns={'Unnamed: 0': 'id', '0': 'text', '1': 'date'}, inplace=True)\n",
        "df_wall"
      ],
      "metadata": {
        "id": "s2l0uDFQQ5Xn",
        "colab": {
          "base_uri": "https://localhost:8080/",
          "height": 424
        },
        "outputId": "ad2edfed-2782-43eb-c0f3-a316b901fb2f"
      },
      "execution_count": 39,
      "outputs": [
        {
          "output_type": "execute_result",
          "data": {
            "text/plain": [
              "         id                                               text  \\\n",
              "0      3252  В «Саду Будущего» запустили занятия по йоге и ...   \n",
              "1      3251  Завершается строительство съезда с Проспекта М...   \n",
              "2      3250  «Московская весна» в столице. \\n\\nНа 21 площад...   \n",
              "3      3248  Привет, соседи! С майскими праздниками вас! На...   \n",
              "4      3247  Друзья, уже завтра состоится очередной дворово...   \n",
              "...     ...                                                ...   \n",
              "17090   330                                                NaN   \n",
              "17091   326                                                NaN   \n",
              "17092   324  Пропала собака в районе Свиблово! \\nКто что зн...   \n",
              "17093   305  Митинг в защиту Капустинского пруда!!!!!!!!!\\n...   \n",
              "17094   284  Помогите остановить незаконную стройку на Нанс...   \n",
              "\n",
              "                      date  \n",
              "0      2022-05-06 07:12:21  \n",
              "1      2022-05-05 12:51:20  \n",
              "2      2022-05-02 16:25:21  \n",
              "3      2022-05-01 18:15:25  \n",
              "4      2022-04-29 14:02:11  \n",
              "...                    ...  \n",
              "17090  2014-04-16 08:00:03  \n",
              "17091  2014-04-15 13:44:06  \n",
              "17092  2014-03-04 16:09:01  \n",
              "17093  2013-04-11 18:39:42  \n",
              "17094  2013-01-25 20:08:43  \n",
              "\n",
              "[34541 rows x 3 columns]"
            ],
            "text/html": [
              "\n",
              "  <div id=\"df-454a2b43-4f97-4b63-9496-176f6700c07b\">\n",
              "    <div class=\"colab-df-container\">\n",
              "      <div>\n",
              "<style scoped>\n",
              "    .dataframe tbody tr th:only-of-type {\n",
              "        vertical-align: middle;\n",
              "    }\n",
              "\n",
              "    .dataframe tbody tr th {\n",
              "        vertical-align: top;\n",
              "    }\n",
              "\n",
              "    .dataframe thead th {\n",
              "        text-align: right;\n",
              "    }\n",
              "</style>\n",
              "<table border=\"1\" class=\"dataframe\">\n",
              "  <thead>\n",
              "    <tr style=\"text-align: right;\">\n",
              "      <th></th>\n",
              "      <th>id</th>\n",
              "      <th>text</th>\n",
              "      <th>date</th>\n",
              "    </tr>\n",
              "  </thead>\n",
              "  <tbody>\n",
              "    <tr>\n",
              "      <th>0</th>\n",
              "      <td>3252</td>\n",
              "      <td>В «Саду Будущего» запустили занятия по йоге и ...</td>\n",
              "      <td>2022-05-06 07:12:21</td>\n",
              "    </tr>\n",
              "    <tr>\n",
              "      <th>1</th>\n",
              "      <td>3251</td>\n",
              "      <td>Завершается строительство съезда с Проспекта М...</td>\n",
              "      <td>2022-05-05 12:51:20</td>\n",
              "    </tr>\n",
              "    <tr>\n",
              "      <th>2</th>\n",
              "      <td>3250</td>\n",
              "      <td>«Московская весна» в столице. \\n\\nНа 21 площад...</td>\n",
              "      <td>2022-05-02 16:25:21</td>\n",
              "    </tr>\n",
              "    <tr>\n",
              "      <th>3</th>\n",
              "      <td>3248</td>\n",
              "      <td>Привет, соседи! С майскими праздниками вас! На...</td>\n",
              "      <td>2022-05-01 18:15:25</td>\n",
              "    </tr>\n",
              "    <tr>\n",
              "      <th>4</th>\n",
              "      <td>3247</td>\n",
              "      <td>Друзья, уже завтра состоится очередной дворово...</td>\n",
              "      <td>2022-04-29 14:02:11</td>\n",
              "    </tr>\n",
              "    <tr>\n",
              "      <th>...</th>\n",
              "      <td>...</td>\n",
              "      <td>...</td>\n",
              "      <td>...</td>\n",
              "    </tr>\n",
              "    <tr>\n",
              "      <th>17090</th>\n",
              "      <td>330</td>\n",
              "      <td>NaN</td>\n",
              "      <td>2014-04-16 08:00:03</td>\n",
              "    </tr>\n",
              "    <tr>\n",
              "      <th>17091</th>\n",
              "      <td>326</td>\n",
              "      <td>NaN</td>\n",
              "      <td>2014-04-15 13:44:06</td>\n",
              "    </tr>\n",
              "    <tr>\n",
              "      <th>17092</th>\n",
              "      <td>324</td>\n",
              "      <td>Пропала собака в районе Свиблово! \\nКто что зн...</td>\n",
              "      <td>2014-03-04 16:09:01</td>\n",
              "    </tr>\n",
              "    <tr>\n",
              "      <th>17093</th>\n",
              "      <td>305</td>\n",
              "      <td>Митинг в защиту Капустинского пруда!!!!!!!!!\\n...</td>\n",
              "      <td>2013-04-11 18:39:42</td>\n",
              "    </tr>\n",
              "    <tr>\n",
              "      <th>17094</th>\n",
              "      <td>284</td>\n",
              "      <td>Помогите остановить незаконную стройку на Нанс...</td>\n",
              "      <td>2013-01-25 20:08:43</td>\n",
              "    </tr>\n",
              "  </tbody>\n",
              "</table>\n",
              "<p>34541 rows × 3 columns</p>\n",
              "</div>\n",
              "      <button class=\"colab-df-convert\" onclick=\"convertToInteractive('df-454a2b43-4f97-4b63-9496-176f6700c07b')\"\n",
              "              title=\"Convert this dataframe to an interactive table.\"\n",
              "              style=\"display:none;\">\n",
              "        \n",
              "  <svg xmlns=\"http://www.w3.org/2000/svg\" height=\"24px\"viewBox=\"0 0 24 24\"\n",
              "       width=\"24px\">\n",
              "    <path d=\"M0 0h24v24H0V0z\" fill=\"none\"/>\n",
              "    <path d=\"M18.56 5.44l.94 2.06.94-2.06 2.06-.94-2.06-.94-.94-2.06-.94 2.06-2.06.94zm-11 1L8.5 8.5l.94-2.06 2.06-.94-2.06-.94L8.5 2.5l-.94 2.06-2.06.94zm10 10l.94 2.06.94-2.06 2.06-.94-2.06-.94-.94-2.06-.94 2.06-2.06.94z\"/><path d=\"M17.41 7.96l-1.37-1.37c-.4-.4-.92-.59-1.43-.59-.52 0-1.04.2-1.43.59L10.3 9.45l-7.72 7.72c-.78.78-.78 2.05 0 2.83L4 21.41c.39.39.9.59 1.41.59.51 0 1.02-.2 1.41-.59l7.78-7.78 2.81-2.81c.8-.78.8-2.07 0-2.86zM5.41 20L4 18.59l7.72-7.72 1.47 1.35L5.41 20z\"/>\n",
              "  </svg>\n",
              "      </button>\n",
              "      \n",
              "  <style>\n",
              "    .colab-df-container {\n",
              "      display:flex;\n",
              "      flex-wrap:wrap;\n",
              "      gap: 12px;\n",
              "    }\n",
              "\n",
              "    .colab-df-convert {\n",
              "      background-color: #E8F0FE;\n",
              "      border: none;\n",
              "      border-radius: 50%;\n",
              "      cursor: pointer;\n",
              "      display: none;\n",
              "      fill: #1967D2;\n",
              "      height: 32px;\n",
              "      padding: 0 0 0 0;\n",
              "      width: 32px;\n",
              "    }\n",
              "\n",
              "    .colab-df-convert:hover {\n",
              "      background-color: #E2EBFA;\n",
              "      box-shadow: 0px 1px 2px rgba(60, 64, 67, 0.3), 0px 1px 3px 1px rgba(60, 64, 67, 0.15);\n",
              "      fill: #174EA6;\n",
              "    }\n",
              "\n",
              "    [theme=dark] .colab-df-convert {\n",
              "      background-color: #3B4455;\n",
              "      fill: #D2E3FC;\n",
              "    }\n",
              "\n",
              "    [theme=dark] .colab-df-convert:hover {\n",
              "      background-color: #434B5C;\n",
              "      box-shadow: 0px 1px 3px 1px rgba(0, 0, 0, 0.15);\n",
              "      filter: drop-shadow(0px 1px 2px rgba(0, 0, 0, 0.3));\n",
              "      fill: #FFFFFF;\n",
              "    }\n",
              "  </style>\n",
              "\n",
              "      <script>\n",
              "        const buttonEl =\n",
              "          document.querySelector('#df-454a2b43-4f97-4b63-9496-176f6700c07b button.colab-df-convert');\n",
              "        buttonEl.style.display =\n",
              "          google.colab.kernel.accessAllowed ? 'block' : 'none';\n",
              "\n",
              "        async function convertToInteractive(key) {\n",
              "          const element = document.querySelector('#df-454a2b43-4f97-4b63-9496-176f6700c07b');\n",
              "          const dataTable =\n",
              "            await google.colab.kernel.invokeFunction('convertToInteractive',\n",
              "                                                     [key], {});\n",
              "          if (!dataTable) return;\n",
              "\n",
              "          const docLinkHtml = 'Like what you see? Visit the ' +\n",
              "            '<a target=\"_blank\" href=https://colab.research.google.com/notebooks/data_table.ipynb>data table notebook</a>'\n",
              "            + ' to learn more about interactive tables.';\n",
              "          element.innerHTML = '';\n",
              "          dataTable['output_type'] = 'display_data';\n",
              "          await google.colab.output.renderOutput(dataTable, element);\n",
              "          const docLink = document.createElement('div');\n",
              "          docLink.innerHTML = docLinkHtml;\n",
              "          element.appendChild(docLink);\n",
              "        }\n",
              "      </script>\n",
              "    </div>\n",
              "  </div>\n",
              "  "
            ]
          },
          "metadata": {},
          "execution_count": 39
        }
      ]
    },
    {
      "cell_type": "code",
      "execution_count": 40,
      "metadata": {
        "colab": {
          "base_uri": "https://localhost:8080/",
          "height": 424
        },
        "id": "usXcf6lxw2II",
        "outputId": "6595bb60-8d4a-4883-dd22-c2257c501b44"
      },
      "outputs": [
        {
          "output_type": "execute_result",
          "data": {
            "text/plain": [
              "         id                                               text  \\\n",
              "0      3253  Сейчас йога в моде, и этим пользуются жулики. ...   \n",
              "1      3249  Это уличная гимнастика, которая может быть отн...   \n",
              "2      3241  Познавательный обзор улиц Свиблово https://mos...   \n",
              "3      3242  Для любителей русского языка - \"кундюм\" - пост...   \n",
              "4      3230                           Все хорошо, кроме колеса   \n",
              "...     ...                                                ...   \n",
              "32749   976              [id4946660|Олежек], возможно вертолет   \n",
              "32750   325                 Моя любимая порода. Жалко пёспёса.   \n",
              "32751   285                   Там же парк делают!? Разве нет!?   \n",
              "32752   287        [id2606020|Макс], нет, парк там и так есть.   \n",
              "32753   298  a почему она незаконная, у них же есть разреше...   \n",
              "\n",
              "                      date  \n",
              "0      2022-05-06 20:49:50  \n",
              "1      2022-05-01 19:50:46  \n",
              "2      2022-04-23 10:50:51  \n",
              "3      2022-04-23 19:19:08  \n",
              "4      2022-04-09 16:48:01  \n",
              "...                    ...  \n",
              "32749  2014-07-04 18:27:00  \n",
              "32750  2014-04-14 13:24:51  \n",
              "32751  2013-01-26 07:50:13  \n",
              "32752  2013-01-29 08:35:48  \n",
              "32753  2013-03-10 04:39:00  \n",
              "\n",
              "[34057 rows x 3 columns]"
            ],
            "text/html": [
              "\n",
              "  <div id=\"df-13cc227c-1922-43a4-a26f-60c9c3f7d98a\">\n",
              "    <div class=\"colab-df-container\">\n",
              "      <div>\n",
              "<style scoped>\n",
              "    .dataframe tbody tr th:only-of-type {\n",
              "        vertical-align: middle;\n",
              "    }\n",
              "\n",
              "    .dataframe tbody tr th {\n",
              "        vertical-align: top;\n",
              "    }\n",
              "\n",
              "    .dataframe thead th {\n",
              "        text-align: right;\n",
              "    }\n",
              "</style>\n",
              "<table border=\"1\" class=\"dataframe\">\n",
              "  <thead>\n",
              "    <tr style=\"text-align: right;\">\n",
              "      <th></th>\n",
              "      <th>id</th>\n",
              "      <th>text</th>\n",
              "      <th>date</th>\n",
              "    </tr>\n",
              "  </thead>\n",
              "  <tbody>\n",
              "    <tr>\n",
              "      <th>0</th>\n",
              "      <td>3253</td>\n",
              "      <td>Сейчас йога в моде, и этим пользуются жулики. ...</td>\n",
              "      <td>2022-05-06 20:49:50</td>\n",
              "    </tr>\n",
              "    <tr>\n",
              "      <th>1</th>\n",
              "      <td>3249</td>\n",
              "      <td>Это уличная гимнастика, которая может быть отн...</td>\n",
              "      <td>2022-05-01 19:50:46</td>\n",
              "    </tr>\n",
              "    <tr>\n",
              "      <th>2</th>\n",
              "      <td>3241</td>\n",
              "      <td>Познавательный обзор улиц Свиблово https://mos...</td>\n",
              "      <td>2022-04-23 10:50:51</td>\n",
              "    </tr>\n",
              "    <tr>\n",
              "      <th>3</th>\n",
              "      <td>3242</td>\n",
              "      <td>Для любителей русского языка - \"кундюм\" - пост...</td>\n",
              "      <td>2022-04-23 19:19:08</td>\n",
              "    </tr>\n",
              "    <tr>\n",
              "      <th>4</th>\n",
              "      <td>3230</td>\n",
              "      <td>Все хорошо, кроме колеса</td>\n",
              "      <td>2022-04-09 16:48:01</td>\n",
              "    </tr>\n",
              "    <tr>\n",
              "      <th>...</th>\n",
              "      <td>...</td>\n",
              "      <td>...</td>\n",
              "      <td>...</td>\n",
              "    </tr>\n",
              "    <tr>\n",
              "      <th>32749</th>\n",
              "      <td>976</td>\n",
              "      <td>[id4946660|Олежек], возможно вертолет</td>\n",
              "      <td>2014-07-04 18:27:00</td>\n",
              "    </tr>\n",
              "    <tr>\n",
              "      <th>32750</th>\n",
              "      <td>325</td>\n",
              "      <td>Моя любимая порода. Жалко пёспёса.</td>\n",
              "      <td>2014-04-14 13:24:51</td>\n",
              "    </tr>\n",
              "    <tr>\n",
              "      <th>32751</th>\n",
              "      <td>285</td>\n",
              "      <td>Там же парк делают!? Разве нет!?</td>\n",
              "      <td>2013-01-26 07:50:13</td>\n",
              "    </tr>\n",
              "    <tr>\n",
              "      <th>32752</th>\n",
              "      <td>287</td>\n",
              "      <td>[id2606020|Макс], нет, парк там и так есть.</td>\n",
              "      <td>2013-01-29 08:35:48</td>\n",
              "    </tr>\n",
              "    <tr>\n",
              "      <th>32753</th>\n",
              "      <td>298</td>\n",
              "      <td>a почему она незаконная, у них же есть разреше...</td>\n",
              "      <td>2013-03-10 04:39:00</td>\n",
              "    </tr>\n",
              "  </tbody>\n",
              "</table>\n",
              "<p>34057 rows × 3 columns</p>\n",
              "</div>\n",
              "      <button class=\"colab-df-convert\" onclick=\"convertToInteractive('df-13cc227c-1922-43a4-a26f-60c9c3f7d98a')\"\n",
              "              title=\"Convert this dataframe to an interactive table.\"\n",
              "              style=\"display:none;\">\n",
              "        \n",
              "  <svg xmlns=\"http://www.w3.org/2000/svg\" height=\"24px\"viewBox=\"0 0 24 24\"\n",
              "       width=\"24px\">\n",
              "    <path d=\"M0 0h24v24H0V0z\" fill=\"none\"/>\n",
              "    <path d=\"M18.56 5.44l.94 2.06.94-2.06 2.06-.94-2.06-.94-.94-2.06-.94 2.06-2.06.94zm-11 1L8.5 8.5l.94-2.06 2.06-.94-2.06-.94L8.5 2.5l-.94 2.06-2.06.94zm10 10l.94 2.06.94-2.06 2.06-.94-2.06-.94-.94-2.06-.94 2.06-2.06.94z\"/><path d=\"M17.41 7.96l-1.37-1.37c-.4-.4-.92-.59-1.43-.59-.52 0-1.04.2-1.43.59L10.3 9.45l-7.72 7.72c-.78.78-.78 2.05 0 2.83L4 21.41c.39.39.9.59 1.41.59.51 0 1.02-.2 1.41-.59l7.78-7.78 2.81-2.81c.8-.78.8-2.07 0-2.86zM5.41 20L4 18.59l7.72-7.72 1.47 1.35L5.41 20z\"/>\n",
              "  </svg>\n",
              "      </button>\n",
              "      \n",
              "  <style>\n",
              "    .colab-df-container {\n",
              "      display:flex;\n",
              "      flex-wrap:wrap;\n",
              "      gap: 12px;\n",
              "    }\n",
              "\n",
              "    .colab-df-convert {\n",
              "      background-color: #E8F0FE;\n",
              "      border: none;\n",
              "      border-radius: 50%;\n",
              "      cursor: pointer;\n",
              "      display: none;\n",
              "      fill: #1967D2;\n",
              "      height: 32px;\n",
              "      padding: 0 0 0 0;\n",
              "      width: 32px;\n",
              "    }\n",
              "\n",
              "    .colab-df-convert:hover {\n",
              "      background-color: #E2EBFA;\n",
              "      box-shadow: 0px 1px 2px rgba(60, 64, 67, 0.3), 0px 1px 3px 1px rgba(60, 64, 67, 0.15);\n",
              "      fill: #174EA6;\n",
              "    }\n",
              "\n",
              "    [theme=dark] .colab-df-convert {\n",
              "      background-color: #3B4455;\n",
              "      fill: #D2E3FC;\n",
              "    }\n",
              "\n",
              "    [theme=dark] .colab-df-convert:hover {\n",
              "      background-color: #434B5C;\n",
              "      box-shadow: 0px 1px 3px 1px rgba(0, 0, 0, 0.15);\n",
              "      filter: drop-shadow(0px 1px 2px rgba(0, 0, 0, 0.3));\n",
              "      fill: #FFFFFF;\n",
              "    }\n",
              "  </style>\n",
              "\n",
              "      <script>\n",
              "        const buttonEl =\n",
              "          document.querySelector('#df-13cc227c-1922-43a4-a26f-60c9c3f7d98a button.colab-df-convert');\n",
              "        buttonEl.style.display =\n",
              "          google.colab.kernel.accessAllowed ? 'block' : 'none';\n",
              "\n",
              "        async function convertToInteractive(key) {\n",
              "          const element = document.querySelector('#df-13cc227c-1922-43a4-a26f-60c9c3f7d98a');\n",
              "          const dataTable =\n",
              "            await google.colab.kernel.invokeFunction('convertToInteractive',\n",
              "                                                     [key], {});\n",
              "          if (!dataTable) return;\n",
              "\n",
              "          const docLinkHtml = 'Like what you see? Visit the ' +\n",
              "            '<a target=\"_blank\" href=https://colab.research.google.com/notebooks/data_table.ipynb>data table notebook</a>'\n",
              "            + ' to learn more about interactive tables.';\n",
              "          element.innerHTML = '';\n",
              "          dataTable['output_type'] = 'display_data';\n",
              "          await google.colab.output.renderOutput(dataTable, element);\n",
              "          const docLink = document.createElement('div');\n",
              "          docLink.innerHTML = docLinkHtml;\n",
              "          element.appendChild(docLink);\n",
              "        }\n",
              "      </script>\n",
              "    </div>\n",
              "  </div>\n",
              "  "
            ]
          },
          "metadata": {},
          "execution_count": 40
        }
      ],
      "source": [
        "df_1 = pd.read_csv('/content/drive/MyDrive/Misc/Kursovaya/VK/-173991154_comms.csv')\n",
        "df_2 = pd.read_csv('/content/drive/MyDrive/Misc/Kursovaya/VK/-187978446_comms.csv')\n",
        "df_3 = pd.read_csv('/content/drive/MyDrive/Misc/Kursovaya/VK/-249423_comms.csv')\n",
        "df_4 = pd.read_csv('/content/drive/MyDrive/Misc/Kursovaya/VK/-73328563_comms.csv')\n",
        "df_5 = pd.read_csv('/content/drive/MyDrive/Misc/Kursovaya/VK/-2326970_comms.csv')\n",
        "df_comms = pd.concat([df_1, df_2, df_3, df_4, df_5])\n",
        "df_comms.rename(columns={'Unnamed: 0': 'id', '0': 'text', '1': 'date'}, inplace=True)\n",
        "df_comms"
      ]
    },
    {
      "cell_type": "code",
      "source": [
        "#from here only the df_comms daframe is used in calculations, but all the described methods are also applicable to the df_wall portion\n",
        "process_comms(df_comms)"
      ],
      "metadata": {
        "colab": {
          "base_uri": "https://localhost:8080/"
        },
        "id": "jRGdUh3jUYFX",
        "outputId": "f26f1240-cc87-4fb6-8989-f7b6b920ad34"
      },
      "execution_count": 41,
      "outputs": [
        {
          "output_type": "stream",
          "name": "stdout",
          "text": [
            "cleaning comments\n"
          ]
        },
        {
          "output_type": "stream",
          "name": "stderr",
          "text": [
            "100%|██████████| 34057/34057 [00:01<00:00, 17568.33it/s]\n"
          ]
        },
        {
          "output_type": "stream",
          "name": "stdout",
          "text": [
            "finding lemmas\n"
          ]
        },
        {
          "output_type": "stream",
          "name": "stderr",
          "text": [
            "100%|██████████| 34057/34057 [06:27<00:00, 87.84it/s]\n"
          ]
        },
        {
          "output_type": "stream",
          "name": "stdout",
          "text": [
            "cleaning lemmas\n"
          ]
        },
        {
          "output_type": "stream",
          "name": "stderr",
          "text": [
            "100%|██████████| 34057/34057 [00:01<00:00, 31186.02it/s]\n"
          ]
        }
      ]
    },
    {
      "cell_type": "code",
      "execution_count": 42,
      "metadata": {
        "id": "3n3U_yXsvzuV",
        "colab": {
          "base_uri": "https://localhost:8080/"
        },
        "outputId": "eca104c8-429b-4a81-cdf0-0cc41a4ab70b"
      },
      "outputs": [
        {
          "output_type": "stream",
          "name": "stderr",
          "text": [
            "100%|██████████| 34057/34057 [00:00<00:00, 253227.11it/s]\n"
          ]
        }
      ],
      "source": [
        "df_comms['joined'] = df_comms['cleaned_lemmas'].progress_apply(lambda x: join_list(x))"
      ]
    },
    {
      "cell_type": "markdown",
      "metadata": {
        "id": "mfqaogZ6-6gv"
      },
      "source": [
        "## 2. Topic modelling with LDA"
      ]
    },
    {
      "cell_type": "markdown",
      "source": [
        "In this section of the code only the petitions dataset is analysed as it alone possesses the finite number of topics. Due to the nature of VK groups comments, they cannot be analysed using the same topic modelling methodology"
      ],
      "metadata": {
        "id": "iKspS631PPxH"
      }
    },
    {
      "cell_type": "code",
      "execution_count": 21,
      "metadata": {
        "id": "MxBq7u3Igsj1"
      },
      "outputs": [],
      "source": [
        "df = pd.read_csv('/content/drive/MyDrive/Misc/Kursovaya/Petitsii_complete.csv')"
      ]
    },
    {
      "cell_type": "code",
      "source": [
        "process_comms(df)"
      ],
      "metadata": {
        "colab": {
          "base_uri": "https://localhost:8080/"
        },
        "id": "VvDsi2lML4Di",
        "outputId": "9456b2f9-f0fe-472d-9aed-746bea0e3847"
      },
      "execution_count": 24,
      "outputs": [
        {
          "output_type": "stream",
          "name": "stdout",
          "text": [
            "cleaning comments\n"
          ]
        },
        {
          "output_type": "stream",
          "name": "stderr",
          "text": [
            "100%|██████████| 251/251 [00:00<00:00, 6364.80it/s]\n"
          ]
        },
        {
          "output_type": "stream",
          "name": "stdout",
          "text": [
            "finding lemmas\n"
          ]
        },
        {
          "output_type": "stream",
          "name": "stderr",
          "text": [
            "100%|██████████| 251/251 [00:06<00:00, 39.34it/s]\n"
          ]
        },
        {
          "output_type": "stream",
          "name": "stdout",
          "text": [
            "cleaning lemmas\n"
          ]
        },
        {
          "output_type": "stream",
          "name": "stderr",
          "text": [
            "100%|██████████| 251/251 [00:00<00:00, 8949.54it/s]\n"
          ]
        }
      ]
    },
    {
      "cell_type": "code",
      "execution_count": 25,
      "metadata": {
        "colab": {
          "base_uri": "https://localhost:8080/"
        },
        "id": "R19j6GHwj2NV",
        "outputId": "0bd603a0-2ac3-4d8e-9c5b-77f2c744836c"
      },
      "outputs": [
        {
          "output_type": "stream",
          "name": "stderr",
          "text": [
            "100%|██████████| 251/251 [00:00<00:00, 48807.15it/s]\n"
          ]
        }
      ],
      "source": [
        "df['joined'] = df['cleaned_lemmas'].progress_apply(lambda x: join_list(x))"
      ]
    },
    {
      "cell_type": "code",
      "execution_count": 26,
      "metadata": {
        "id": "84soVl5sRszF",
        "colab": {
          "base_uri": "https://localhost:8080/"
        },
        "outputId": "e9dc791e-1814-4038-dd0a-900f58fb3c67"
      },
      "outputs": [
        {
          "output_type": "stream",
          "name": "stderr",
          "text": [
            "/usr/local/lib/python3.7/dist-packages/sklearn/utils/deprecation.py:87: FutureWarning: Function get_feature_names is deprecated; get_feature_names is deprecated in 1.0 and will be removed in 1.2. Please use get_feature_names_out instead.\n",
            "  warnings.warn(msg, category=FutureWarning)\n",
            "100%|██████████| 5/5 [00:00<00:00, 88.59it/s]\n"
          ]
        },
        {
          "output_type": "execute_result",
          "data": {
            "text/plain": [
              "[['застройка', 'район', 'свиблово', 'человек', 'проект'],\n",
              " ['уничтожать', 'прекратить', 'свой', 'беспредел', 'любить свой'],\n",
              " ['чистый', 'район', 'дом', 'проект', 'дышать'],\n",
              " ['зелёный', 'район', 'остаться', 'наш', 'двор'],\n",
              " ['точечный', 'точечный застройка', 'застройка', 'район', 'наш']]"
            ]
          },
          "metadata": {},
          "execution_count": 26
        }
      ],
      "source": [
        "count_vect = CountVectorizer(stop_words=['против', 'петиция', 'хотеть', 'жить', 'согласна', 'подписываться', 'подписать', 'однозначно', 'плиз', 'город', 'москва'], ngram_range=(1, 2), min_df=2)\n",
        "x_counts = count_vect.fit_transform(df['joined'])\n",
        "tfidf_transformer = TfidfTransformer()\n",
        "x_tfidf = tfidf_transformer.fit_transform(x_counts)\n",
        "dimension = 5\n",
        "lda = LDA(n_components = dimension)\n",
        "lda_array = lda.fit_transform(x_tfidf)\n",
        "components = [lda.components_[i] for i in range(len(lda.components_))]\n",
        "features = count_vect.get_feature_names()\n",
        "important_words = [sorted(features, key = lambda x: components[j][features.index(x)], reverse = True)[:5] for j in tqdm(range(len(components)))]\n",
        "important_words"
      ]
    },
    {
      "cell_type": "markdown",
      "source": [
        "## 3. Place image and Place identity analysis of the texts"
      ],
      "metadata": {
        "id": "mXcgTHn6JIJF"
      }
    },
    {
      "cell_type": "markdown",
      "source": [
        "### 3.1 Finding noun chunks"
      ],
      "metadata": {
        "id": "ikfgts-8hU5J"
      }
    },
    {
      "cell_type": "code",
      "source": [
        "df_test = df_comms.loc[df_comms['cleaned'].str.contains('район|Свиблово|свиблово')]"
      ],
      "metadata": {
        "id": "Ci0KO6Zgs54x"
      },
      "execution_count": 82,
      "outputs": []
    },
    {
      "cell_type": "code",
      "source": [
        "df_test['chunks'] = df_test['joined'].progress_apply(lambda x: noun_chunks(x))"
      ],
      "metadata": {
        "id": "vBnipF9HyFtQ",
        "colab": {
          "base_uri": "https://localhost:8080/"
        },
        "outputId": "ecda80cc-a99b-4df4-ca29-c42f1e386849"
      },
      "execution_count": 83,
      "outputs": [
        {
          "output_type": "stream",
          "name": "stderr",
          "text": [
            "100%|██████████| 2066/2066 [00:01<00:00, 2051.99it/s]\n",
            "/usr/local/lib/python3.7/dist-packages/ipykernel_launcher.py:1: SettingWithCopyWarning: \n",
            "A value is trying to be set on a copy of a slice from a DataFrame.\n",
            "Try using .loc[row_indexer,col_indexer] = value instead\n",
            "\n",
            "See the caveats in the documentation: https://pandas.pydata.org/pandas-docs/stable/user_guide/indexing.html#returning-a-view-versus-a-copy\n",
            "  \"\"\"Entry point for launching an IPython kernel.\n"
          ]
        }
      ]
    },
    {
      "cell_type": "code",
      "source": [
        "# creating a df with chunk occurance frequency\n",
        "chunks = []\n",
        "for x in df_test['chunks']:\n",
        "    chunks += x\n",
        "from collections import Counter\n",
        "value_counts = {}\n",
        "for i in chunks:\n",
        "    value_counts[i] = chunks.count(i)\n",
        "lst = sorted(value_counts.items(), key=lambda item: item[1], reverse=True)\n",
        "lst_1 = []\n",
        "counts = []\n",
        "for res in lst:\n",
        "    lst_1 += [res[0]]\n",
        "    counts += [res[1]]\n",
        "count_df = pd.DataFrame(lst_1, columns = ['word', 'mod'])\n",
        "count_df['chunks'] = count_df['word'] + ' ' + count_df['mod']\n",
        "count_df['count'] = counts\n",
        "count_df"
      ],
      "metadata": {
        "id": "VrlmBjQV5h5z",
        "colab": {
          "base_uri": "https://localhost:8080/",
          "height": 424
        },
        "outputId": "013faef1-386e-4b33-b2b8-07e979b3898f"
      },
      "execution_count": 93,
      "outputs": [
        {
          "output_type": "execute_result",
          "data": {
            "text/plain": [
              "             word           mod              chunks  count\n",
              "0           район      свиблово      район свиблово     83\n",
              "1           район        управа        район управа     18\n",
              "2           район       хороший       район хороший     14\n",
              "3           район           гбу           район гбу     11\n",
              "4           район     173903562     район 173903562      8\n",
              "..            ...           ...                 ...    ...\n",
              "217         район           год           район год      1\n",
              "218  общерайонный         чисто  общерайонный чисто      1\n",
              "219         район     закулисье     район закулисье      1\n",
              "220         район        разный        район разный      1\n",
              "221         район  правопорядок  район правопорядок      1\n",
              "\n",
              "[222 rows x 4 columns]"
            ],
            "text/html": [
              "\n",
              "  <div id=\"df-ceb5a443-75fa-4cdc-91cf-59b88cb6040e\">\n",
              "    <div class=\"colab-df-container\">\n",
              "      <div>\n",
              "<style scoped>\n",
              "    .dataframe tbody tr th:only-of-type {\n",
              "        vertical-align: middle;\n",
              "    }\n",
              "\n",
              "    .dataframe tbody tr th {\n",
              "        vertical-align: top;\n",
              "    }\n",
              "\n",
              "    .dataframe thead th {\n",
              "        text-align: right;\n",
              "    }\n",
              "</style>\n",
              "<table border=\"1\" class=\"dataframe\">\n",
              "  <thead>\n",
              "    <tr style=\"text-align: right;\">\n",
              "      <th></th>\n",
              "      <th>word</th>\n",
              "      <th>mod</th>\n",
              "      <th>chunks</th>\n",
              "      <th>count</th>\n",
              "    </tr>\n",
              "  </thead>\n",
              "  <tbody>\n",
              "    <tr>\n",
              "      <th>0</th>\n",
              "      <td>район</td>\n",
              "      <td>свиблово</td>\n",
              "      <td>район свиблово</td>\n",
              "      <td>83</td>\n",
              "    </tr>\n",
              "    <tr>\n",
              "      <th>1</th>\n",
              "      <td>район</td>\n",
              "      <td>управа</td>\n",
              "      <td>район управа</td>\n",
              "      <td>18</td>\n",
              "    </tr>\n",
              "    <tr>\n",
              "      <th>2</th>\n",
              "      <td>район</td>\n",
              "      <td>хороший</td>\n",
              "      <td>район хороший</td>\n",
              "      <td>14</td>\n",
              "    </tr>\n",
              "    <tr>\n",
              "      <th>3</th>\n",
              "      <td>район</td>\n",
              "      <td>гбу</td>\n",
              "      <td>район гбу</td>\n",
              "      <td>11</td>\n",
              "    </tr>\n",
              "    <tr>\n",
              "      <th>4</th>\n",
              "      <td>район</td>\n",
              "      <td>173903562</td>\n",
              "      <td>район 173903562</td>\n",
              "      <td>8</td>\n",
              "    </tr>\n",
              "    <tr>\n",
              "      <th>...</th>\n",
              "      <td>...</td>\n",
              "      <td>...</td>\n",
              "      <td>...</td>\n",
              "      <td>...</td>\n",
              "    </tr>\n",
              "    <tr>\n",
              "      <th>217</th>\n",
              "      <td>район</td>\n",
              "      <td>год</td>\n",
              "      <td>район год</td>\n",
              "      <td>1</td>\n",
              "    </tr>\n",
              "    <tr>\n",
              "      <th>218</th>\n",
              "      <td>общерайонный</td>\n",
              "      <td>чисто</td>\n",
              "      <td>общерайонный чисто</td>\n",
              "      <td>1</td>\n",
              "    </tr>\n",
              "    <tr>\n",
              "      <th>219</th>\n",
              "      <td>район</td>\n",
              "      <td>закулисье</td>\n",
              "      <td>район закулисье</td>\n",
              "      <td>1</td>\n",
              "    </tr>\n",
              "    <tr>\n",
              "      <th>220</th>\n",
              "      <td>район</td>\n",
              "      <td>разный</td>\n",
              "      <td>район разный</td>\n",
              "      <td>1</td>\n",
              "    </tr>\n",
              "    <tr>\n",
              "      <th>221</th>\n",
              "      <td>район</td>\n",
              "      <td>правопорядок</td>\n",
              "      <td>район правопорядок</td>\n",
              "      <td>1</td>\n",
              "    </tr>\n",
              "  </tbody>\n",
              "</table>\n",
              "<p>222 rows × 4 columns</p>\n",
              "</div>\n",
              "      <button class=\"colab-df-convert\" onclick=\"convertToInteractive('df-ceb5a443-75fa-4cdc-91cf-59b88cb6040e')\"\n",
              "              title=\"Convert this dataframe to an interactive table.\"\n",
              "              style=\"display:none;\">\n",
              "        \n",
              "  <svg xmlns=\"http://www.w3.org/2000/svg\" height=\"24px\"viewBox=\"0 0 24 24\"\n",
              "       width=\"24px\">\n",
              "    <path d=\"M0 0h24v24H0V0z\" fill=\"none\"/>\n",
              "    <path d=\"M18.56 5.44l.94 2.06.94-2.06 2.06-.94-2.06-.94-.94-2.06-.94 2.06-2.06.94zm-11 1L8.5 8.5l.94-2.06 2.06-.94-2.06-.94L8.5 2.5l-.94 2.06-2.06.94zm10 10l.94 2.06.94-2.06 2.06-.94-2.06-.94-.94-2.06-.94 2.06-2.06.94z\"/><path d=\"M17.41 7.96l-1.37-1.37c-.4-.4-.92-.59-1.43-.59-.52 0-1.04.2-1.43.59L10.3 9.45l-7.72 7.72c-.78.78-.78 2.05 0 2.83L4 21.41c.39.39.9.59 1.41.59.51 0 1.02-.2 1.41-.59l7.78-7.78 2.81-2.81c.8-.78.8-2.07 0-2.86zM5.41 20L4 18.59l7.72-7.72 1.47 1.35L5.41 20z\"/>\n",
              "  </svg>\n",
              "      </button>\n",
              "      \n",
              "  <style>\n",
              "    .colab-df-container {\n",
              "      display:flex;\n",
              "      flex-wrap:wrap;\n",
              "      gap: 12px;\n",
              "    }\n",
              "\n",
              "    .colab-df-convert {\n",
              "      background-color: #E8F0FE;\n",
              "      border: none;\n",
              "      border-radius: 50%;\n",
              "      cursor: pointer;\n",
              "      display: none;\n",
              "      fill: #1967D2;\n",
              "      height: 32px;\n",
              "      padding: 0 0 0 0;\n",
              "      width: 32px;\n",
              "    }\n",
              "\n",
              "    .colab-df-convert:hover {\n",
              "      background-color: #E2EBFA;\n",
              "      box-shadow: 0px 1px 2px rgba(60, 64, 67, 0.3), 0px 1px 3px 1px rgba(60, 64, 67, 0.15);\n",
              "      fill: #174EA6;\n",
              "    }\n",
              "\n",
              "    [theme=dark] .colab-df-convert {\n",
              "      background-color: #3B4455;\n",
              "      fill: #D2E3FC;\n",
              "    }\n",
              "\n",
              "    [theme=dark] .colab-df-convert:hover {\n",
              "      background-color: #434B5C;\n",
              "      box-shadow: 0px 1px 3px 1px rgba(0, 0, 0, 0.15);\n",
              "      filter: drop-shadow(0px 1px 2px rgba(0, 0, 0, 0.3));\n",
              "      fill: #FFFFFF;\n",
              "    }\n",
              "  </style>\n",
              "\n",
              "      <script>\n",
              "        const buttonEl =\n",
              "          document.querySelector('#df-ceb5a443-75fa-4cdc-91cf-59b88cb6040e button.colab-df-convert');\n",
              "        buttonEl.style.display =\n",
              "          google.colab.kernel.accessAllowed ? 'block' : 'none';\n",
              "\n",
              "        async function convertToInteractive(key) {\n",
              "          const element = document.querySelector('#df-ceb5a443-75fa-4cdc-91cf-59b88cb6040e');\n",
              "          const dataTable =\n",
              "            await google.colab.kernel.invokeFunction('convertToInteractive',\n",
              "                                                     [key], {});\n",
              "          if (!dataTable) return;\n",
              "\n",
              "          const docLinkHtml = 'Like what you see? Visit the ' +\n",
              "            '<a target=\"_blank\" href=https://colab.research.google.com/notebooks/data_table.ipynb>data table notebook</a>'\n",
              "            + ' to learn more about interactive tables.';\n",
              "          element.innerHTML = '';\n",
              "          dataTable['output_type'] = 'display_data';\n",
              "          await google.colab.output.renderOutput(dataTable, element);\n",
              "          const docLink = document.createElement('div');\n",
              "          docLink.innerHTML = docLinkHtml;\n",
              "          element.appendChild(docLink);\n",
              "        }\n",
              "      </script>\n",
              "    </div>\n",
              "  </div>\n",
              "  "
            ]
          },
          "metadata": {},
          "execution_count": 93
        }
      ]
    },
    {
      "cell_type": "markdown",
      "source": [
        "### 3.2 Finding named entities"
      ],
      "metadata": {
        "id": "2GzwZA7sAbKE"
      }
    },
    {
      "cell_type": "code",
      "source": [
        "df_comms['cleaned'] = df_comms['cleaned'].fillna('')\n",
        "\n",
        "df_comms['LOC'] = df_comms['cleaned'].progress_apply(lambda x: get_LOC(x))\n",
        "df_comms['PER'] = df_comms['cleaned'].progress_apply(lambda x: get_PER(x))\n",
        "df_comms['ORG'] = df_comms['cleaned'].progress_apply(lambda x: get_ORG(x))"
      ],
      "metadata": {
        "colab": {
          "base_uri": "https://localhost:8080/"
        },
        "id": "tCDNOtcsqzF2",
        "outputId": "6e765ae5-2076-4e4a-be2d-c2a5200f4237"
      },
      "execution_count": 104,
      "outputs": [
        {
          "output_type": "stream",
          "name": "stderr",
          "text": [
            "100%|██████████| 34057/34057 [01:48<00:00, 312.88it/s]\n",
            "100%|██████████| 34057/34057 [01:46<00:00, 320.39it/s]\n",
            "100%|██████████| 34057/34057 [01:45<00:00, 322.35it/s]\n"
          ]
        }
      ]
    }
  ],
  "metadata": {
    "colab": {
      "provenance": [],
      "collapsed_sections": [
        "mXcgTHn6JIJF"
      ]
    },
    "kernelspec": {
      "display_name": "Python 3",
      "name": "python3"
    },
    "language_info": {
      "name": "python"
    }
  },
  "nbformat": 4,
  "nbformat_minor": 0
}